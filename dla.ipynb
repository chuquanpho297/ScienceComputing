{
 "cells": [
  {
   "cell_type": "code",
   "execution_count": 2,
   "metadata": {},
   "outputs": [],
   "source": [
    "from copy import deepcopy\n",
    "import numpy as np\n",
    "import random\n",
    "import matplotlib.pyplot as plt\n",
    "import numpy as np"
   ]
  },
  {
   "cell_type": "code",
   "execution_count": 16,
   "metadata": {},
   "outputs": [],
   "source": [
    "max_viruses = 100\n",
    "sizeX = 20\n",
    "omega = 1.5\n",
    "tol = 0.1\n",
    "sizeC = (sizeX,sizeX)\n",
    "C = np.ones(sizeC)\n",
    "dir = [(-1, 0), (0, -1), (0, 1), (1, 0)]\n",
    "viruses = [(int(sizeX/2),int(sizeX/2))]\n",
    "n = 1 \n",
    "# viruses = [sizeX-1,int(sizeX/2)]\n",
    "\n",
    "for i in range(sizeX):\n",
    "  for j in range(sizeX):\n",
    "    C[i][j] = round(1-(abs(sizeX/2-i) + abs(sizeX/2-j))/sizeX,2)\n",
    "    # C[i][j] = 1\n",
    "# for i in range(sizeX):\n",
    "#   C[0][i] = 1;\n",
    "#   C[sizeX-1][i] = 0\n",
    "\n",
    "# for i in range(sizeX):\n",
    "#   C[i][0] = 1 - i/(sizeX-1)\n",
    "#   C[i][sizeX-1] = 1 - i/(sizeX-1)\n",
    "  # for j in range(sizeX):\n",
    "  #   C[i][]\n",
    "\n",
    "C2 = deepcopy(C)"
   ]
  },
  {
   "cell_type": "code",
   "execution_count": 19,
   "metadata": {},
   "outputs": [],
   "source": [
    "\n",
    "while len(viruses) < max_viruses and len(viruses) < pow(sizeX,2):\n",
    "  while True:\n",
    "    max_delta = 0\n",
    "    for eoo in range(2):\n",
    "      for i in range(sizeX):\n",
    "        if i == 0 or i == sizeX-1:\n",
    "          continue\n",
    "        for j in range(sizeX):\n",
    "          if j == 0 or j == sizeX-1:\n",
    "            continue\n",
    "          if(i+j) % 2 == eoo :\n",
    "            continue\n",
    "          if(i,j) in viruses:\n",
    "            C[i][j] = 0\n",
    "            continue\n",
    "          C[i][j] = (omega/4) * (C[i+1][j] + C[i][j+1] + C[i-1][j] + C[i][j-1]) + (1 - omega) * C[i][j]\n",
    "          max_delta = max(max_delta,abs(C[i][j] - C2[i][j]))\n",
    "    if max_delta < tol:\n",
    "      break\n",
    "    for i in range(sizeX):\n",
    "        if i == 0 or i == sizeX-1:\n",
    "          continue\n",
    "        for j in range(sizeX):\n",
    "          if j == 0 or j == sizeX-1:\n",
    "            continue\n",
    "          if C[i][j] < 0: C[i][j] = 0\n",
    "    C2 = deepcopy(C)\n",
    "  # candidate\n",
    "  candidates = []\n",
    "\n",
    "  for i in range(sizeX):\n",
    "    for j in range(sizeX):\n",
    "      if (i,j) in viruses:\n",
    "        continue\n",
    "      for (x,y) in dir:\n",
    "        i2 = i + x\n",
    "        j2 = j + y\n",
    "        if i2 >= 0 and i2 < sizeX and j2 >= 0 and j2 < sizeX:\n",
    "          if (i2,j2) in viruses:\n",
    "            candidates.append((i,j))\n",
    "            break\n",
    "  sum_can = sum([pow(C[x][y],n) for x,y in candidates])\n",
    "  print(len(candidates))\n",
    "  prob_can = [pow(C[x][y],n)/sum_can for x,y in candidates]\n",
    " \n",
    "  for i in range(len(candidates)):\n",
    "    if prob_can[i] >= random.uniform(0,1) :\n",
    "      viruses.append(candidates[i])\n",
    "      x,y = candidates[i]\n",
    "      C[x][y] = 0\n",
    "  print(len(viruses))\n",
    "  C2 = deepcopy(C)\n",
    "\n",
    "while True:\n",
    "  max_delta = 0\n",
    "  for eoo in range(2):\n",
    "    for i in range(sizeX):\n",
    "      if i == 0 or i == sizeX-1:\n",
    "        continue\n",
    "      for j in range(sizeX):\n",
    "        if j == 0 or j == sizeX-1:\n",
    "          continue\n",
    "        if(i+j) % 2 == eoo :\n",
    "          continue\n",
    "        if(i,j) in viruses:\n",
    "          C[i][j] = 0\n",
    "          continue\n",
    "        C[i][j] = (omega/4) * (C[i+1][j] + C[i][j+1] + C[i-1][j] + C[i][j-1]) + (1 - omega) * C[i][j]\n",
    "        max_delta = max(max_delta,abs(C[i][j] - C2[i][j]))\n",
    "  if max_delta < tol:\n",
    "    break\n",
    "  for i in range(sizeX):\n",
    "      if i == 0 or i == sizeX-1:\n",
    "        continue\n",
    "      for j in range(sizeX):\n",
    "        if j == 0 or j == sizeX-1:\n",
    "          continue\n",
    "        if C[i][j] < 0: C[i][j] = 0\n",
    "  C2 = deepcopy(C)\n",
    "# for x,y in viruses:\n",
    "#   C[x][y] = 1\n",
    "for i in range(sizeX):\n",
    "  for j in range(sizeX):\n",
    "    C[i][j] = round(C[i][j],2)\n",
    "\n"
   ]
  },
  {
   "cell_type": "code",
   "execution_count": 17,
   "metadata": {},
   "outputs": [
    {
     "data": {
      "image/png": "[encoded data removed]",
      "text/plain": [
       "<Figure size 432x288 with 1 Axes>"
      ]
     },
     "metadata": {
      "needs_background": "light"
     },
     "output_type": "display_data"
    }
   ],
   "source": [
    "plt.imshow(C, cmap='coolwarm')\n",
    "with open(\"output.txt\",\"w\") as txt_file:\n",
    "  for line in C:\n",
    "    txt_file.write(\" \".join(map(str,line))+\"\\n\")"
   ]
  }
 ],
 "metadata": {
  "kernelspec": {
   "display_name": "Python 3.10.5 64-bit (windows store)",
   "language": "python",
   "name": "python3"
  },
  "language_info": {
   "codemirror_mode": {
    "name": "ipython",
    "version": 3
   },
   "file_extension": ".py",
   "mimetype": "text/x-python",
   "name": "python",
   "nbconvert_exporter": "python",
   "pygments_lexer": "ipython3",
   "version": "3.10.5"
  },
  "orig_nbformat": 4,
  "vscode": {
   "interpreter": {
    "hash": "42d7bdf2c2868fd961ff8bda156c65cf906704fe8b88b45c215aee1c488aa0af"
   }
  }
 },
 "nbformat": 4,
 "nbformat_minor": 2
}
